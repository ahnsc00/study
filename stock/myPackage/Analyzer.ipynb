{
 "cells": [
  {
   "cell_type": "code",
   "execution_count": 53,
   "id": "ff776e6c",
   "metadata": {},
   "outputs": [],
   "source": [
    "import pandas as pd\n",
    "import pymysql\n",
    "from datetime import datetime\n",
    "from datetime import timedelta\n",
    "import re\n",
    "\n",
    "class MarketDB:\n",
    "    def __init__(self):\n",
    "        \"\"\"생성자: MariaDB 연결 및 종목코드 딕셔너리 생성\"\"\"\n",
    "        self.conn = pymysql.connect(host='localhost', user='root', password='dkstjdcks1206', db='INVESTAR', charset='utf8')\n",
    "        self.codes = {}\n",
    "        self.get_comp_info()\n",
    "    \n",
    "    def __del__(self):\n",
    "        \"\"\"소멸자: MariaDB 연결 해제\"\"\"\n",
    "        self.conn.close()\n",
    "        \n",
    "    def get_comp_info(self):\n",
    "        \"\"\"company_info 테이블에서 읽어와서 codes에 저장\"\"\"\n",
    "        sql = \"SELECT * FROM company_info\"\n",
    "        krx = pd.read_sql(sql, self.conn)\n",
    "        for idx in range(len(krx)):\n",
    "            self.codes[krx['code'].values[idx]] = krx['company'].values[idx]\n",
    "        \n",
    "    def get_daily_price(self, code, start_date=None, end_date=None):\n",
    "        \"\"\"KRX 종목별 시세를 데이터프레임 형태로 반환\n",
    "            -code : KRX 종목코드('095930') 또는 상장기업명('삼성전자')\n",
    "            -start_date : 조회 시작일, default 1년\n",
    "            -end_date : 조회 종료일, default 오늘\n",
    "        \"\"\"\n",
    "        \n",
    "        if (start_date is None):\n",
    "            one_year_ago = datetime.today() - timedelta(days=365) # 1년 전 날짜\n",
    "            print(\"start_date is initialized to '{}'\".format(start_date))\n",
    "        else:\n",
    "            start_lst = re.split('\\D+', start_date)\n",
    "            if (start_lst[0] == ''):\n",
    "                start_lst = start_lst[1:]\n",
    "            start_year = int(start_lst[0])\n",
    "            start_month = int(start_lst[1])\n",
    "            start_day = int(start_lst[2])\n",
    "            if start_year < 1900 or start_year > 2200:\n",
    "                print(f\"ValueError: start_year({start_year:d}) is wrong.\")\n",
    "                return\n",
    "            if start_month < 1 or start_month > 12:\n",
    "                print(f\"ValueError: start_month({start_month:d}) is wrong.\")\n",
    "                return\n",
    "            if start_day < 1 or start_day > 31:\n",
    "                print(f\"ValueError: start_day({start_day:d}) is wrong.\")\n",
    "                return\n",
    "            start_date = f\"{start_year:04d}-{start_month:02d}-{start_day:02d}\"\n",
    "            \n",
    "        if (end_date is None):\n",
    "            end_date = datetime.today().strftime('%Y-%m-%d')\n",
    "            print(\"end_date is initialized to '{}'\".format(end_date))\n",
    "        else:\n",
    "            end_lst = re.split('\\D+', end_date)\n",
    "            if (end_lst[0] == ''):\n",
    "                end_lst = end_lst[1:]\n",
    "            end_year = int(end_lst[0])\n",
    "            end_month = int(end_lst[1])\n",
    "            end_day = int(end_lst[2])\n",
    "            if end_year < 1900 or end_year > 2200:\n",
    "                print(f\"ValueError: end_year({end_year:d}) is wrong.\")\n",
    "                return\n",
    "            if end_month < 1 or end_month > 12:\n",
    "                print(f\"ValueError: end_month({end_month:d}) is wrong.\")\n",
    "                return\n",
    "            if end_day < 1 or end_day > 31:\n",
    "                print(f\"ValueError: end_day({end_day:d}) is wrong.\")\n",
    "                return\n",
    "            end_date = f\"{end_year:04d}-{end_month:02d}-{end_day:02d}\"\n",
    "        \n",
    "        codes_keys = list(self.codes.keys())\n",
    "        codes_values = list(self.codes.values())\n",
    "        if code in codes_keys:\n",
    "            pass\n",
    "        elif code in codes_values:\n",
    "            idx = codes_values.index(code)\n",
    "            code = codes_keys[idx]\n",
    "        else:\n",
    "            print(\"ValueError: Code({}) doesn't exist.\".format(code))\n",
    "                \n",
    "        sql = f\"SELECT * FROM daily_price WHERE code = '{code}'\"\\\n",
    "            f\" and date >= '{start_date}' and date <= '{end_date}'\"\n",
    "        df = pd.read_sql(sql, self.conn)\n",
    "        df.index = df['date']\n",
    "        return df"
   ]
  },
  {
   "cell_type": "code",
   "execution_count": 9,
   "id": "fc7f85bf",
   "metadata": {},
   "outputs": [],
   "source": [
    "import pandas as pd\n",
    "import pymysql\n",
    "conn = pymysql.connect(host='localhost', user='root', password='dkstjdcks1206', db='INVESTAR', charset='utf8')\n",
    "sql = \"SELECT * FROM company_info\"\n",
    "krx = pd.read_sql(sql, conn)\n",
    "\n",
    "codes = {}\n",
    "for idx in range(len(krx)):\n",
    "    codes[krx['code'].values[idx]] = krx['company'].values[idx]"
   ]
  },
  {
   "cell_type": "code",
   "execution_count": 56,
   "id": "2e54d6f8",
   "metadata": {},
   "outputs": [
    {
     "name": "stdout",
     "output_type": "stream",
     "text": [
      "end_date is initialized to '2022-01-03'\n"
     ]
    },
    {
     "data": {
      "text/html": [
       "<div>\n",
       "<style scoped>\n",
       "    .dataframe tbody tr th:only-of-type {\n",
       "        vertical-align: middle;\n",
       "    }\n",
       "\n",
       "    .dataframe tbody tr th {\n",
       "        vertical-align: top;\n",
       "    }\n",
       "\n",
       "    .dataframe thead th {\n",
       "        text-align: right;\n",
       "    }\n",
       "</style>\n",
       "<table border=\"1\" class=\"dataframe\">\n",
       "  <thead>\n",
       "    <tr style=\"text-align: right;\">\n",
       "      <th></th>\n",
       "      <th>code</th>\n",
       "      <th>date</th>\n",
       "      <th>open</th>\n",
       "      <th>high</th>\n",
       "      <th>low</th>\n",
       "      <th>close</th>\n",
       "      <th>diff</th>\n",
       "      <th>volume</th>\n",
       "    </tr>\n",
       "    <tr>\n",
       "      <th>date</th>\n",
       "      <th></th>\n",
       "      <th></th>\n",
       "      <th></th>\n",
       "      <th></th>\n",
       "      <th></th>\n",
       "      <th></th>\n",
       "      <th></th>\n",
       "      <th></th>\n",
       "    </tr>\n",
       "  </thead>\n",
       "  <tbody>\n",
       "    <tr>\n",
       "      <th>2019-09-30</th>\n",
       "      <td>217600</td>\n",
       "      <td>2019-09-30</td>\n",
       "      <td>1490</td>\n",
       "      <td>1490</td>\n",
       "      <td>1445</td>\n",
       "      <td>1455</td>\n",
       "      <td>35</td>\n",
       "      <td>475394</td>\n",
       "    </tr>\n",
       "    <tr>\n",
       "      <th>2019-10-01</th>\n",
       "      <td>217600</td>\n",
       "      <td>2019-10-01</td>\n",
       "      <td>1460</td>\n",
       "      <td>1500</td>\n",
       "      <td>1445</td>\n",
       "      <td>1490</td>\n",
       "      <td>35</td>\n",
       "      <td>423652</td>\n",
       "    </tr>\n",
       "    <tr>\n",
       "      <th>2019-10-02</th>\n",
       "      <td>217600</td>\n",
       "      <td>2019-10-02</td>\n",
       "      <td>1465</td>\n",
       "      <td>1495</td>\n",
       "      <td>1460</td>\n",
       "      <td>1480</td>\n",
       "      <td>10</td>\n",
       "      <td>360912</td>\n",
       "    </tr>\n",
       "    <tr>\n",
       "      <th>2019-10-04</th>\n",
       "      <td>217600</td>\n",
       "      <td>2019-10-04</td>\n",
       "      <td>1460</td>\n",
       "      <td>1485</td>\n",
       "      <td>1455</td>\n",
       "      <td>1460</td>\n",
       "      <td>20</td>\n",
       "      <td>331428</td>\n",
       "    </tr>\n",
       "    <tr>\n",
       "      <th>2019-10-07</th>\n",
       "      <td>217600</td>\n",
       "      <td>2019-10-07</td>\n",
       "      <td>1455</td>\n",
       "      <td>1520</td>\n",
       "      <td>1455</td>\n",
       "      <td>1505</td>\n",
       "      <td>45</td>\n",
       "      <td>906195</td>\n",
       "    </tr>\n",
       "    <tr>\n",
       "      <th>...</th>\n",
       "      <td>...</td>\n",
       "      <td>...</td>\n",
       "      <td>...</td>\n",
       "      <td>...</td>\n",
       "      <td>...</td>\n",
       "      <td>...</td>\n",
       "      <td>...</td>\n",
       "      <td>...</td>\n",
       "    </tr>\n",
       "    <tr>\n",
       "      <th>2021-12-24</th>\n",
       "      <td>217600</td>\n",
       "      <td>2021-12-24</td>\n",
       "      <td>4300</td>\n",
       "      <td>4400</td>\n",
       "      <td>3775</td>\n",
       "      <td>3800</td>\n",
       "      <td>255</td>\n",
       "      <td>26338694</td>\n",
       "    </tr>\n",
       "    <tr>\n",
       "      <th>2021-12-27</th>\n",
       "      <td>217600</td>\n",
       "      <td>2021-12-27</td>\n",
       "      <td>3825</td>\n",
       "      <td>3950</td>\n",
       "      <td>3770</td>\n",
       "      <td>3825</td>\n",
       "      <td>25</td>\n",
       "      <td>16881875</td>\n",
       "    </tr>\n",
       "    <tr>\n",
       "      <th>2021-12-28</th>\n",
       "      <td>217600</td>\n",
       "      <td>2021-12-28</td>\n",
       "      <td>4025</td>\n",
       "      <td>4345</td>\n",
       "      <td>3730</td>\n",
       "      <td>3755</td>\n",
       "      <td>70</td>\n",
       "      <td>43452383</td>\n",
       "    </tr>\n",
       "    <tr>\n",
       "      <th>2021-12-29</th>\n",
       "      <td>217600</td>\n",
       "      <td>2021-12-29</td>\n",
       "      <td>3760</td>\n",
       "      <td>3885</td>\n",
       "      <td>3760</td>\n",
       "      <td>3835</td>\n",
       "      <td>80</td>\n",
       "      <td>4440446</td>\n",
       "    </tr>\n",
       "    <tr>\n",
       "      <th>2021-12-30</th>\n",
       "      <td>217600</td>\n",
       "      <td>2021-12-30</td>\n",
       "      <td>3810</td>\n",
       "      <td>3870</td>\n",
       "      <td>3635</td>\n",
       "      <td>3700</td>\n",
       "      <td>135</td>\n",
       "      <td>5584695</td>\n",
       "    </tr>\n",
       "  </tbody>\n",
       "</table>\n",
       "<p>559 rows × 8 columns</p>\n",
       "</div>"
      ],
      "text/plain": [
       "              code        date  open  high   low  close  diff    volume\n",
       "date                                                                   \n",
       "2019-09-30  217600  2019-09-30  1490  1490  1445   1455    35    475394\n",
       "2019-10-01  217600  2019-10-01  1460  1500  1445   1490    35    423652\n",
       "2019-10-02  217600  2019-10-02  1465  1495  1460   1480    10    360912\n",
       "2019-10-04  217600  2019-10-04  1460  1485  1455   1460    20    331428\n",
       "2019-10-07  217600  2019-10-07  1455  1520  1455   1505    45    906195\n",
       "...            ...         ...   ...   ...   ...    ...   ...       ...\n",
       "2021-12-24  217600  2021-12-24  4300  4400  3775   3800   255  26338694\n",
       "2021-12-27  217600  2021-12-27  3825  3950  3770   3825    25  16881875\n",
       "2021-12-28  217600  2021-12-28  4025  4345  3730   3755    70  43452383\n",
       "2021-12-29  217600  2021-12-29  3760  3885  3760   3835    80   4440446\n",
       "2021-12-30  217600  2021-12-30  3810  3870  3635   3700   135   5584695\n",
       "\n",
       "[559 rows x 8 columns]"
      ]
     },
     "execution_count": 56,
     "metadata": {},
     "output_type": "execute_result"
    }
   ],
   "source": [
    "mk = MarketDB()\n",
    "mk.get_daily_price('켐온', '2019-09-30', )"
   ]
  },
  {
   "cell_type": "code",
   "execution_count": 38,
   "id": "8d540efc",
   "metadata": {},
   "outputs": [],
   "source": [
    "import re\n",
    "end_lst = re.split('\\D+', '2019-09-30')"
   ]
  },
  {
   "cell_type": "code",
   "execution_count": 39,
   "id": "87ab28e5",
   "metadata": {},
   "outputs": [],
   "source": [
    "if (end_lst[0] == ''):\n",
    "    end_lst = end_lst[1:]\n",
    "end_year = int(end_lst[0])\n",
    "end_month = int(end_lst[1])\n",
    "end_year = int(end_lst[2])"
   ]
  },
  {
   "cell_type": "code",
   "execution_count": 40,
   "id": "50fedd4f",
   "metadata": {},
   "outputs": [
    {
     "data": {
      "text/plain": [
       "30"
      ]
     },
     "execution_count": 40,
     "metadata": {},
     "output_type": "execute_result"
    }
   ],
   "source": [
    "end_year"
   ]
  },
  {
   "cell_type": "code",
   "execution_count": 41,
   "id": "04a4d581",
   "metadata": {},
   "outputs": [
    {
     "data": {
      "text/plain": [
       "['2019', '09', '30']"
      ]
     },
     "execution_count": 41,
     "metadata": {},
     "output_type": "execute_result"
    }
   ],
   "source": [
    "re.split('\\D+', '2019-09-30')"
   ]
  },
  {
   "cell_type": "code",
   "execution_count": 42,
   "id": "72b6bd6d",
   "metadata": {},
   "outputs": [
    {
     "data": {
      "text/plain": [
       "'2019'"
      ]
     },
     "execution_count": 42,
     "metadata": {},
     "output_type": "execute_result"
    }
   ],
   "source": [
    "end_lst[0]"
   ]
  },
  {
   "cell_type": "code",
   "execution_count": 43,
   "id": "422b2002",
   "metadata": {},
   "outputs": [
    {
     "data": {
      "text/plain": [
       "['09', '30']"
      ]
     },
     "execution_count": 43,
     "metadata": {},
     "output_type": "execute_result"
    }
   ],
   "source": [
    "end_lst[1:]"
   ]
  },
  {
   "cell_type": "code",
   "execution_count": 44,
   "id": "b0bb4212",
   "metadata": {},
   "outputs": [
    {
     "data": {
      "text/plain": [
       "False"
      ]
     },
     "execution_count": 44,
     "metadata": {},
     "output_type": "execute_result"
    }
   ],
   "source": [
    "end_lst[0] == ''"
   ]
  },
  {
   "cell_type": "code",
   "execution_count": 46,
   "id": "3f9bacf9",
   "metadata": {},
   "outputs": [
    {
     "data": {
      "text/plain": [
       "['2019', '09', '30']"
      ]
     },
     "execution_count": 46,
     "metadata": {},
     "output_type": "execute_result"
    }
   ],
   "source": [
    "end_lst"
   ]
  },
  {
   "cell_type": "code",
   "execution_count": null,
   "id": "c9efaaee",
   "metadata": {},
   "outputs": [],
   "source": []
  }
 ],
 "metadata": {
  "kernelspec": {
   "display_name": "Python 3",
   "language": "python",
   "name": "python3"
  },
  "language_info": {
   "codemirror_mode": {
    "name": "ipython",
    "version": 3
   },
   "file_extension": ".py",
   "mimetype": "text/x-python",
   "name": "python",
   "nbconvert_exporter": "python",
   "pygments_lexer": "ipython3",
   "version": "3.8.8"
  }
 },
 "nbformat": 4,
 "nbformat_minor": 5
}
